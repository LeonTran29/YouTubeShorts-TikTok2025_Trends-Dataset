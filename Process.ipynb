{
 "cells": [
  {
   "cell_type": "markdown",
   "id": "a8aadc39",
   "metadata": {},
   "source": [
    "I. Introduction\n",
    "\n"
   ]
  },
  {
   "cell_type": "markdown",
   "id": "4ae5d181",
   "metadata": {},
   "source": [
    "II. Objectives\n",
    "\n"
   ]
  },
  {
   "cell_type": "markdown",
   "id": "1d208e4a",
   "metadata": {},
   "source": [
    "III. Preparation\n"
   ]
  },
  {
   "cell_type": "code",
   "execution_count": 38,
   "id": "39b7e5fb",
   "metadata": {},
   "outputs": [
    {
     "name": "stdout",
     "output_type": "stream",
     "text": [
      "Found csv file: Dataset/monthly_trends_2025.csv\n",
      "Found csv file: Dataset/youtube_shorts_tiktok_trends_2025.csv\n",
      "Found csv file: Dataset/top_creators_impact_2025.csv\n",
      "Found csv file: Dataset/country_platform_summary_2025.csv\n",
      "Found csv file: Dataset/top_hashtags_2025.csv\n",
      "Found csv file: Dataset/DATA_DICTIONARY.csv\n"
     ]
    }
   ],
   "source": [
    "## Import library\n",
    "import polars as pl\n",
    "import numpy as np\n",
    "import matplotlib.pyplot as plt\n",
    "import seaborn as sns\n",
    "import os\n",
    "\n",
    "# Import my utils\n",
    "from utils import *\n",
    "\n",
    "# Set working directory\n",
    "for pathname, dirname, filenames in os.walk('Dataset'):\n",
    "    for filename in filenames:\n",
    "        if filename.endswith('.csv'):\n",
    "            print(\"Found csv file:\", os.path.join(pathname, filename))\n",
    "\n",
    "#Link dataset :https://www.kaggle.com/datasets/tarekmasryo/youtube-shorts-and-tiktok-trends-2025?select=DATA_DICTIONARY.csv\n"
   ]
  },
  {
   "cell_type": "code",
   "execution_count": 39,
   "id": "dcec5491",
   "metadata": {},
   "outputs": [],
   "source": [
    "# Load dataset\n",
    "monthly_trends = pl.read_csv('Dataset/monthly_trends_2025.csv')\n",
    "top_creators = pl.read_csv('Dataset/top_creators_impact_2025.csv')\n",
    "top_hashtags = pl.read_csv('Dataset/top_hashtags_2025.csv')\n",
    "shorts_vs_tiktok = pl.read_csv('Dataset/youtube_shorts_tiktok_trends_2025.csv')\n",
    "platform_summary = pl.read_csv('Dataset/country_platform_summary_2025.csv')\n",
    "Data_dictionary = pl.read_csv('Dataset/DATA_DICTIONARY.csv')\n"
   ]
  },
  {
   "cell_type": "code",
   "execution_count": 40,
   "id": "805b6b18",
   "metadata": {},
   "outputs": [
    {
     "name": "stdout",
     "output_type": "stream",
     "text": [
      "Null values in each dataset:\n"
     ]
    },
    {
     "data": {
      "text/plain": [
       "0"
      ]
     },
     "metadata": {},
     "output_type": "display_data"
    },
    {
     "data": {
      "text/plain": [
       "0"
      ]
     },
     "metadata": {},
     "output_type": "display_data"
    },
    {
     "data": {
      "text/plain": [
       "0"
      ]
     },
     "metadata": {},
     "output_type": "display_data"
    },
    {
     "data": {
      "text/plain": [
       "0"
      ]
     },
     "metadata": {},
     "output_type": "display_data"
    },
    {
     "data": {
      "text/plain": [
       "0"
      ]
     },
     "metadata": {},
     "output_type": "display_data"
    },
    {
     "data": {
      "text/plain": [
       "0"
      ]
     },
     "metadata": {},
     "output_type": "display_data"
    },
    {
     "name": "stdout",
     "output_type": "stream",
     "text": [
      "--- End of null value check ---\n",
      "\n"
     ]
    }
   ],
   "source": [
    "# Check null values\n",
    "print(\"Null values in each dataset:\")\n",
    "display(monthly_trends.null_count().pipe(sum).item())\n",
    "display(top_creators.null_count().pipe(sum).item())\n",
    "display(top_hashtags.null_count().pipe(sum).item())\n",
    "display(shorts_vs_tiktok.null_count().pipe(sum).item())\n",
    "display(platform_summary.null_count().pipe(sum).item())\n",
    "display(Data_dictionary.null_count().pipe(sum).item())\n",
    "print(\"--- End of null value check ---\\n\")\n"
   ]
  },
  {
   "cell_type": "code",
   "execution_count": 43,
   "id": "f4e6e7e0",
   "metadata": {},
   "outputs": [
    {
     "name": "stdout",
     "output_type": "stream",
     "text": [
      "Schema of each dataset:\n",
      "Monthly Trends Schema:\n"
     ]
    },
    {
     "data": {
      "text/plain": [
       "Schema([('country', String),\n",
       "        ('platform', String),\n",
       "        ('year_month', String),\n",
       "        ('n_videos', Int64),\n",
       "        ('views', Int64),\n",
       "        ('avg_er', Float64),\n",
       "        ('avg_velocity', Float64),\n",
       "        ('trend_label', String)])"
      ]
     },
     "metadata": {},
     "output_type": "display_data"
    },
    {
     "name": "stdout",
     "output_type": "stream",
     "text": [
      "------------------------------\n",
      "\n",
      "Top Creators Schema:\n"
     ]
    },
    {
     "data": {
      "text/plain": [
       "Schema([('author_handle', String),\n",
       "        ('platform', String),\n",
       "        ('n_videos', Int64),\n",
       "        ('views', Int64),\n",
       "        ('avg_er', Float64),\n",
       "        ('likes_sum', Int64),\n",
       "        ('dislikes_sum', Int64),\n",
       "        ('comments_sum', Int64),\n",
       "        ('shares_sum', Int64),\n",
       "        ('saves_sum', Int64),\n",
       "        ('total_engagements', Int64),\n",
       "        ('avg_engagement_velocity', Float64),\n",
       "        ('avg_comment_ratio', Float64),\n",
       "        ('avg_share_rate', Float64),\n",
       "        ('avg_save_rate', Float64),\n",
       "        ('avg_like_dislike_ratio', Float64),\n",
       "        ('avg_engagement_per_1k', Float64),\n",
       "        ('avg_like_rate', Float64),\n",
       "        ('avg_dislike_rate', Float64),\n",
       "        ('creator_avg_views', Float64)])"
      ]
     },
     "metadata": {},
     "output_type": "display_data"
    },
    {
     "name": "stdout",
     "output_type": "stream",
     "text": [
      "------------------------------\n",
      "\n",
      "Top Hashtags Schema:\n"
     ]
    },
    {
     "data": {
      "text/plain": [
       "Schema([('platform', String),\n",
       "        ('hashtag', String),\n",
       "        ('n_videos', Int64),\n",
       "        ('views', Int64),\n",
       "        ('likes', Int64),\n",
       "        ('comments', Int64),\n",
       "        ('shares', Int64),\n",
       "        ('saves', Int64),\n",
       "        ('avg_er', Float64),\n",
       "        ('avg_engagement_velocity', Float64),\n",
       "        ('avg_comment_ratio', Float64),\n",
       "        ('avg_share_rate', Float64),\n",
       "        ('avg_save_rate', Float64),\n",
       "        ('avg_like_dislike_ratio', Float64),\n",
       "        ('avg_engagement_per_1k', Float64),\n",
       "        ('avg_like_rate', Float64),\n",
       "        ('avg_dislike_rate', Float64),\n",
       "        ('total_engagements', Int64)])"
      ]
     },
     "metadata": {},
     "output_type": "display_data"
    },
    {
     "name": "stdout",
     "output_type": "stream",
     "text": [
      "------------------------------\n",
      "\n",
      "Shorts vs TikTok Schema:\n"
     ]
    },
    {
     "data": {
      "text/plain": [
       "Schema([('platform', String),\n",
       "        ('country', String),\n",
       "        ('region', String),\n",
       "        ('language', String),\n",
       "        ('category', String),\n",
       "        ('hashtag', String),\n",
       "        ('title_keywords', String),\n",
       "        ('author_handle', String),\n",
       "        ('sound_type', String),\n",
       "        ('music_track', String),\n",
       "        ('week_of_year', Int64),\n",
       "        ('duration_sec', Int64),\n",
       "        ('views', Int64),\n",
       "        ('likes', Int64),\n",
       "        ('comments', Int64),\n",
       "        ('shares', Int64),\n",
       "        ('saves', Int64),\n",
       "        ('engagement_rate', Float64),\n",
       "        ('trend_label', String),\n",
       "        ('source_hint', String),\n",
       "        ('notes', String),\n",
       "        ('device_type', String),\n",
       "        ('upload_hour', Int64),\n",
       "        ('genre', String),\n",
       "        ('trend_duration_days', Int64),\n",
       "        ('trend_type', String),\n",
       "        ('engagement_velocity', Float64),\n",
       "        ('dislikes', Int64),\n",
       "        ('comment_ratio', Float64),\n",
       "        ('share_rate', Float64),\n",
       "        ('save_rate', Float64),\n",
       "        ('like_dislike_ratio', Float64),\n",
       "        ('publish_dayofweek', String),\n",
       "        ('publish_period', String),\n",
       "        ('event_season', String),\n",
       "        ('tags', String),\n",
       "        ('sample_comments', String),\n",
       "        ('creator_avg_views', Float64),\n",
       "        ('creator_tier', String),\n",
       "        ('season', String),\n",
       "        ('publish_date_approx', String),\n",
       "        ('year_month', String),\n",
       "        ('title', String),\n",
       "        ('title_length', Int64),\n",
       "        ('has_emoji', Int64),\n",
       "        ('avg_watch_time_sec', Float64),\n",
       "        ('completion_rate', Float64),\n",
       "        ('device_brand', String),\n",
       "        ('traffic_source', String),\n",
       "        ('is_weekend', Int64),\n",
       "        ('row_id', String),\n",
       "        ('engagement_total', Int64),\n",
       "        ('like_rate', Float64),\n",
       "        ('dislike_rate', Float64),\n",
       "        ('engagement_per_1k', Float64),\n",
       "        ('engagement_like_rate', Float64),\n",
       "        ('engagement_comment_rate', Float64),\n",
       "        ('engagement_share_rate', Float64)])"
      ]
     },
     "metadata": {},
     "output_type": "display_data"
    },
    {
     "name": "stdout",
     "output_type": "stream",
     "text": [
      "------------------------------\n",
      "\n",
      "Platform Summary Schema:\n"
     ]
    },
    {
     "data": {
      "text/plain": [
       "Schema([('country', String),\n",
       "        ('platform', String),\n",
       "        ('total_videos', Int64),\n",
       "        ('total_views', Int64),\n",
       "        ('median_er', Float64),\n",
       "        ('p95_views', Float64),\n",
       "        ('avg_duration', Float64),\n",
       "        ('avg_velocity', Float64),\n",
       "        ('avg_comment_ratio', Float64),\n",
       "        ('avg_share_rate', Float64),\n",
       "        ('avg_save_rate', Float64),\n",
       "        ('avg_engagement_per_1k', Float64),\n",
       "        ('top_hashtag', String),\n",
       "        ('top_hashtag_views', Int64)])"
      ]
     },
     "metadata": {},
     "output_type": "display_data"
    },
    {
     "name": "stdout",
     "output_type": "stream",
     "text": [
      "--- End of schema display ---\n",
      "\n"
     ]
    }
   ],
   "source": [
    "# Display schema of each dataset\n",
    "print(\"Schema of each dataset:\")\n",
    "print(\"Monthly Trends Schema:\")\n",
    "display(monthly_trends.schema)\n",
    "print(\"------------------------------\\n\")\n",
    "print(\"Top Creators Schema:\")\n",
    "display(top_creators.schema)\n",
    "print(\"------------------------------\\n\")\n",
    "print(\"Top Hashtags Schema:\")\n",
    "display(top_hashtags.schema)\n",
    "print(\"------------------------------\\n\")\n",
    "print(\"Shorts vs TikTok Schema:\")\n",
    "display(shorts_vs_tiktok.schema)\n",
    "print(\"------------------------------\\n\")\n",
    "print(\"Platform Summary Schema:\")\n",
    "display(platform_summary.schema)\n",
    "print(\"--- End of schema display ---\\n\")\n"
   ]
  },
  {
   "cell_type": "code",
   "execution_count": 41,
   "id": "a1b0c81b",
   "metadata": {},
   "outputs": [
    {
     "name": "stdout",
     "output_type": "stream",
     "text": [
      "First few rows of each dataset:\n"
     ]
    },
    {
     "data": {
      "text/html": [
       "<div><style>\n",
       ".dataframe > thead > tr,\n",
       ".dataframe > tbody > tr {\n",
       "  text-align: right;\n",
       "  white-space: pre-wrap;\n",
       "}\n",
       "</style>\n",
       "<small>shape: (3, 8)</small><table border=\"1\" class=\"dataframe\"><thead><tr><th>country</th><th>platform</th><th>year_month</th><th>n_videos</th><th>views</th><th>avg_er</th><th>avg_velocity</th><th>trend_label</th></tr><tr><td>str</td><td>str</td><td>str</td><td>i64</td><td>i64</td><td>f64</td><td>f64</td><td>str</td></tr></thead><tbody><tr><td>&quot;AE&quot;</td><td>&quot;TikTok&quot;</td><td>&quot;2025-01&quot;</td><td>130</td><td>14474636</td><td>0.093197</td><td>18357.548923</td><td>&quot;steady&quot;</td></tr><tr><td>&quot;AE&quot;</td><td>&quot;TikTok&quot;</td><td>&quot;2025-02&quot;</td><td>112</td><td>11873208</td><td>0.092006</td><td>14471.823839</td><td>&quot;declining&quot;</td></tr><tr><td>&quot;AE&quot;</td><td>&quot;TikTok&quot;</td><td>&quot;2025-03&quot;</td><td>129</td><td>15551725</td><td>0.088624</td><td>15883.138605</td><td>&quot;rising&quot;</td></tr></tbody></table></div>"
      ],
      "text/plain": [
       "shape: (3, 8)\n",
       "┌─────────┬──────────┬────────────┬──────────┬──────────┬──────────┬──────────────┬─────────────┐\n",
       "│ country ┆ platform ┆ year_month ┆ n_videos ┆ views    ┆ avg_er   ┆ avg_velocity ┆ trend_label │\n",
       "│ ---     ┆ ---      ┆ ---        ┆ ---      ┆ ---      ┆ ---      ┆ ---          ┆ ---         │\n",
       "│ str     ┆ str      ┆ str        ┆ i64      ┆ i64      ┆ f64      ┆ f64          ┆ str         │\n",
       "╞═════════╪══════════╪════════════╪══════════╪══════════╪══════════╪══════════════╪═════════════╡\n",
       "│ AE      ┆ TikTok   ┆ 2025-01    ┆ 130      ┆ 14474636 ┆ 0.093197 ┆ 18357.548923 ┆ steady      │\n",
       "│ AE      ┆ TikTok   ┆ 2025-02    ┆ 112      ┆ 11873208 ┆ 0.092006 ┆ 14471.823839 ┆ declining   │\n",
       "│ AE      ┆ TikTok   ┆ 2025-03    ┆ 129      ┆ 15551725 ┆ 0.088624 ┆ 15883.138605 ┆ rising      │\n",
       "└─────────┴──────────┴────────────┴──────────┴──────────┴──────────┴──────────────┴─────────────┘"
      ]
     },
     "metadata": {},
     "output_type": "display_data"
    },
    {
     "data": {
      "text/html": [
       "<div><style>\n",
       ".dataframe > thead > tr,\n",
       ".dataframe > tbody > tr {\n",
       "  text-align: right;\n",
       "  white-space: pre-wrap;\n",
       "}\n",
       "</style>\n",
       "<small>shape: (3, 20)</small><table border=\"1\" class=\"dataframe\"><thead><tr><th>author_handle</th><th>platform</th><th>n_videos</th><th>views</th><th>avg_er</th><th>likes_sum</th><th>dislikes_sum</th><th>comments_sum</th><th>shares_sum</th><th>saves_sum</th><th>total_engagements</th><th>avg_engagement_velocity</th><th>avg_comment_ratio</th><th>avg_share_rate</th><th>avg_save_rate</th><th>avg_like_dislike_ratio</th><th>avg_engagement_per_1k</th><th>avg_like_rate</th><th>avg_dislike_rate</th><th>creator_avg_views</th></tr><tr><td>str</td><td>str</td><td>i64</td><td>i64</td><td>f64</td><td>i64</td><td>i64</td><td>i64</td><td>i64</td><td>i64</td><td>i64</td><td>f64</td><td>f64</td><td>f64</td><td>f64</td><td>f64</td><td>f64</td><td>f64</td><td>f64</td><td>f64</td></tr></thead><tbody><tr><td>&quot;UrbanVision&quot;</td><td>&quot;TikTok&quot;</td><td>136</td><td>17938952</td><td>0.091914</td><td>1267238</td><td>36094</td><td>142403</td><td>125916</td><td>124572</td><td>1660129</td><td>17957.9025</td><td>0.007648</td><td>0.006849</td><td>0.007302</td><td>49.73521</td><td>91.913699</td><td>0.070115</td><td>0.001887</td><td>120866.4</td></tr><tr><td>&quot;BeyondStudio&quot;</td><td>&quot;TikTok&quot;</td><td>135</td><td>17085072</td><td>0.087916</td><td>1121223</td><td>31594</td><td>123017</td><td>114620</td><td>130934</td><td>1489794</td><td>17890.303481</td><td>0.007439</td><td>0.006496</td><td>0.006724</td><td>49.875449</td><td>87.915533</td><td>0.067256</td><td>0.001922</td><td>116192.9</td></tr><tr><td>&quot;StreetVision&quot;</td><td>&quot;TikTok&quot;</td><td>133</td><td>16843324</td><td>0.093018</td><td>1228515</td><td>28953</td><td>129169</td><td>114222</td><td>138762</td><td>1610668</td><td>18574.954962</td><td>0.007454</td><td>0.006886</td><td>0.007555</td><td>54.076138</td><td>93.018098</td><td>0.071123</td><td>0.00187</td><td>116083.5</td></tr></tbody></table></div>"
      ],
      "text/plain": [
       "shape: (3, 20)\n",
       "┌────────────┬──────────┬──────────┬──────────┬───┬────────────┬───────────┬───────────┬───────────┐\n",
       "│ author_han ┆ platform ┆ n_videos ┆ views    ┆ … ┆ avg_engage ┆ avg_like_ ┆ avg_disli ┆ creator_a │\n",
       "│ dle        ┆ ---      ┆ ---      ┆ ---      ┆   ┆ ment_per_1 ┆ rate      ┆ ke_rate   ┆ vg_views  │\n",
       "│ ---        ┆ str      ┆ i64      ┆ i64      ┆   ┆ k          ┆ ---       ┆ ---       ┆ ---       │\n",
       "│ str        ┆          ┆          ┆          ┆   ┆ ---        ┆ f64       ┆ f64       ┆ f64       │\n",
       "│            ┆          ┆          ┆          ┆   ┆ f64        ┆           ┆           ┆           │\n",
       "╞════════════╪══════════╪══════════╪══════════╪═══╪════════════╪═══════════╪═══════════╪═══════════╡\n",
       "│ UrbanVisio ┆ TikTok   ┆ 136      ┆ 17938952 ┆ … ┆ 91.913699  ┆ 0.070115  ┆ 0.001887  ┆ 120866.4  │\n",
       "│ n          ┆          ┆          ┆          ┆   ┆            ┆           ┆           ┆           │\n",
       "│ BeyondStud ┆ TikTok   ┆ 135      ┆ 17085072 ┆ … ┆ 87.915533  ┆ 0.067256  ┆ 0.001922  ┆ 116192.9  │\n",
       "│ io         ┆          ┆          ┆          ┆   ┆            ┆           ┆           ┆           │\n",
       "│ StreetVisi ┆ TikTok   ┆ 133      ┆ 16843324 ┆ … ┆ 93.018098  ┆ 0.071123  ┆ 0.00187   ┆ 116083.5  │\n",
       "│ on         ┆          ┆          ┆          ┆   ┆            ┆           ┆           ┆           │\n",
       "└────────────┴──────────┴──────────┴──────────┴───┴────────────┴───────────┴───────────┴───────────┘"
      ]
     },
     "metadata": {},
     "output_type": "display_data"
    },
    {
     "data": {
      "text/html": [
       "<div><style>\n",
       ".dataframe > thead > tr,\n",
       ".dataframe > tbody > tr {\n",
       "  text-align: right;\n",
       "  white-space: pre-wrap;\n",
       "}\n",
       "</style>\n",
       "<small>shape: (3, 18)</small><table border=\"1\" class=\"dataframe\"><thead><tr><th>platform</th><th>hashtag</th><th>n_videos</th><th>views</th><th>likes</th><th>comments</th><th>shares</th><th>saves</th><th>avg_er</th><th>avg_engagement_velocity</th><th>avg_comment_ratio</th><th>avg_share_rate</th><th>avg_save_rate</th><th>avg_like_dislike_ratio</th><th>avg_engagement_per_1k</th><th>avg_like_rate</th><th>avg_dislike_rate</th><th>total_engagements</th></tr><tr><td>str</td><td>str</td><td>i64</td><td>i64</td><td>i64</td><td>i64</td><td>i64</td><td>i64</td><td>f64</td><td>f64</td><td>f64</td><td>f64</td><td>f64</td><td>f64</td><td>f64</td><td>f64</td><td>f64</td><td>i64</td></tr></thead><tbody><tr><td>&quot;TikTok&quot;</td><td>&quot;#FYP&quot;</td><td>7379</td><td>734064265</td><td>51402240</td><td>5651829</td><td>4998382</td><td>5348188</td><td>0.091838</td><td>13954.979633</td><td>0.007692</td><td>0.006783</td><td>0.007221</td><td>51.436016</td><td>91.837843</td><td>0.070141</td><td>0.001892</td><td>67400639</td></tr><tr><td>&quot;TikTok&quot;</td><td>&quot;#GRWM&quot;</td><td>1013</td><td>111331419</td><td>7726251</td><td>843072</td><td>753230</td><td>777258</td><td>0.09132</td><td>15906.769319</td><td>0.007638</td><td>0.006746</td><td>0.007104</td><td>49.449781</td><td>91.319729</td><td>0.069833</td><td>0.001921</td><td>10099811</td></tr><tr><td>&quot;TikTok&quot;</td><td>&quot;#Comedy&quot;</td><td>762</td><td>79538424</td><td>5748752</td><td>620867</td><td>551845</td><td>606968</td><td>0.092762</td><td>14930.337533</td><td>0.007677</td><td>0.006833</td><td>0.007625</td><td>49.351872</td><td>92.76152</td><td>0.070627</td><td>0.001941</td><td>7528432</td></tr></tbody></table></div>"
      ],
      "text/plain": [
       "shape: (3, 18)\n",
       "┌──────────┬─────────┬──────────┬───────────┬───┬────────────┬────────────┬────────────┬───────────┐\n",
       "│ platform ┆ hashtag ┆ n_videos ┆ views     ┆ … ┆ avg_engage ┆ avg_like_r ┆ avg_dislik ┆ total_eng │\n",
       "│ ---      ┆ ---     ┆ ---      ┆ ---       ┆   ┆ ment_per_1 ┆ ate        ┆ e_rate     ┆ agements  │\n",
       "│ str      ┆ str     ┆ i64      ┆ i64       ┆   ┆ k          ┆ ---        ┆ ---        ┆ ---       │\n",
       "│          ┆         ┆          ┆           ┆   ┆ ---        ┆ f64        ┆ f64        ┆ i64       │\n",
       "│          ┆         ┆          ┆           ┆   ┆ f64        ┆            ┆            ┆           │\n",
       "╞══════════╪═════════╪══════════╪═══════════╪═══╪════════════╪════════════╪════════════╪═══════════╡\n",
       "│ TikTok   ┆ #FYP    ┆ 7379     ┆ 734064265 ┆ … ┆ 91.837843  ┆ 0.070141   ┆ 0.001892   ┆ 67400639  │\n",
       "│ TikTok   ┆ #GRWM   ┆ 1013     ┆ 111331419 ┆ … ┆ 91.319729  ┆ 0.069833   ┆ 0.001921   ┆ 10099811  │\n",
       "│ TikTok   ┆ #Comedy ┆ 762      ┆ 79538424  ┆ … ┆ 92.76152   ┆ 0.070627   ┆ 0.001941   ┆ 7528432   │\n",
       "└──────────┴─────────┴──────────┴───────────┴───┴────────────┴────────────┴────────────┴───────────┘"
      ]
     },
     "metadata": {},
     "output_type": "display_data"
    },
    {
     "data": {
      "text/html": [
       "<div><style>\n",
       ".dataframe > thead > tr,\n",
       ".dataframe > tbody > tr {\n",
       "  text-align: right;\n",
       "  white-space: pre-wrap;\n",
       "}\n",
       "</style>\n",
       "<small>shape: (3, 58)</small><table border=\"1\" class=\"dataframe\"><thead><tr><th>platform</th><th>country</th><th>region</th><th>language</th><th>category</th><th>hashtag</th><th>title_keywords</th><th>author_handle</th><th>sound_type</th><th>music_track</th><th>week_of_year</th><th>duration_sec</th><th>views</th><th>likes</th><th>comments</th><th>shares</th><th>saves</th><th>engagement_rate</th><th>trend_label</th><th>source_hint</th><th>notes</th><th>device_type</th><th>upload_hour</th><th>genre</th><th>trend_duration_days</th><th>trend_type</th><th>engagement_velocity</th><th>dislikes</th><th>comment_ratio</th><th>share_rate</th><th>save_rate</th><th>like_dislike_ratio</th><th>publish_dayofweek</th><th>publish_period</th><th>event_season</th><th>tags</th><th>sample_comments</th><th>creator_avg_views</th><th>creator_tier</th><th>season</th><th>publish_date_approx</th><th>year_month</th><th>title</th><th>title_length</th><th>has_emoji</th><th>avg_watch_time_sec</th><th>completion_rate</th><th>device_brand</th><th>traffic_source</th><th>is_weekend</th><th>row_id</th><th>engagement_total</th><th>like_rate</th><th>dislike_rate</th><th>engagement_per_1k</th><th>engagement_like_rate</th><th>engagement_comment_rate</th><th>engagement_share_rate</th></tr><tr><td>str</td><td>str</td><td>str</td><td>str</td><td>str</td><td>str</td><td>str</td><td>str</td><td>str</td><td>str</td><td>i64</td><td>i64</td><td>i64</td><td>i64</td><td>i64</td><td>i64</td><td>i64</td><td>f64</td><td>str</td><td>str</td><td>str</td><td>str</td><td>i64</td><td>str</td><td>i64</td><td>str</td><td>f64</td><td>i64</td><td>f64</td><td>f64</td><td>f64</td><td>f64</td><td>str</td><td>str</td><td>str</td><td>str</td><td>str</td><td>f64</td><td>str</td><td>str</td><td>str</td><td>str</td><td>str</td><td>i64</td><td>i64</td><td>f64</td><td>f64</td><td>str</td><td>str</td><td>i64</td><td>str</td><td>i64</td><td>f64</td><td>f64</td><td>f64</td><td>f64</td><td>f64</td><td>f64</td></tr></thead><tbody><tr><td>&quot;TikTok&quot;</td><td>&quot;Jp&quot;</td><td>&quot;Asia&quot;</td><td>&quot;ja&quot;</td><td>&quot;Gaming&quot;</td><td>&quot;#Lifestyle&quot;</td><td>&quot;Night Routine — College&quot;</td><td>&quot;NextVision&quot;</td><td>&quot;trending&quot;</td><td>&quot;8bit loop&quot;</td><td>1</td><td>40</td><td>252497</td><td>21755</td><td>3170</td><td>1977</td><td>3415</td><td>0.120069</td><td>&quot;rising&quot;</td><td>&quot;TikTok Creative Center&quot;</td><td>&quot;split-screen&quot;</td><td>&quot;Android&quot;</td><td>15</td><td>&quot;Lifestyle&quot;</td><td>4</td><td>&quot;Short&quot;</td><td>63124.25</td><td>1011</td><td>0.012555</td><td>0.00783</td><td>0.013525</td><td>21.497036</td><td>&quot;Saturday&quot;</td><td>&quot;Afternoon&quot;</td><td>&quot;Regular&quot;</td><td>&quot;daily, lifestyle, motivation&quot;</td><td>&quot;ずっと見ちゃう😂&quot;</td><td>96474.3</td><td>&quot;Mid&quot;</td><td>&quot;Spring&quot;</td><td>&quot;2025-01-04&quot;</td><td>&quot;2025-01&quot;</td><td>&quot;Night Routine — Productivity 🏖…</td><td>31</td><td>1</td><td>25.8</td><td>0.645</td><td>&quot;iPhone&quot;</td><td>&quot;External&quot;</td><td>1</td><td>&quot;2e681528d17a1fe1986857942536ec…</td><td>30317</td><td>0.086159</td><td>0.004004</td><td>120.069</td><td>0.086159</td><td>0.012555</td><td>0.00783</td></tr><tr><td>&quot;TikTok&quot;</td><td>&quot;Se&quot;</td><td>&quot;Europe&quot;</td><td>&quot;sv&quot;</td><td>&quot;Food&quot;</td><td>&quot;#Sports&quot;</td><td>&quot;Morning Routine — College&quot;</td><td>&quot;DailyVlogsDiego&quot;</td><td>&quot;trending&quot;</td><td>&quot;Street vibe&quot;</td><td>1</td><td>18</td><td>270580</td><td>23080</td><td>2124</td><td>2108</td><td>3265</td><td>0.113005</td><td>&quot;declining&quot;</td><td>&quot;TikTok Creative Center&quot;</td><td>&quot;greenscreen&quot;</td><td>&quot;Android&quot;</td><td>3</td><td>&quot;Sports&quot;</td><td>56</td><td>&quot;Evergreen&quot;</td><td>4831.79</td><td>655</td><td>0.00785</td><td>0.007791</td><td>0.012067</td><td>35.182927</td><td>&quot;Wednesday&quot;</td><td>&quot;Night&quot;</td><td>&quot;Regular&quot;</td><td>&quot;gym, football, workout&quot;</td><td>&quot;This is fire 🔥&quot;</td><td>104638.4</td><td>&quot;Mid&quot;</td><td>&quot;Fall&quot;</td><td>&quot;2025-01-01&quot;</td><td>&quot;2025-01&quot;</td><td>&quot;Football skills in 60s 📱&quot;</td><td>24</td><td>1</td><td>10.4</td><td>0.578</td><td>&quot;iPhone&quot;</td><td>&quot;Search&quot;</td><td>0</td><td>&quot;2e35fa0b2978b9cae635839c1d4e9e…</td><td>30577</td><td>0.085298</td><td>0.002421</td><td>113.005</td><td>0.085298</td><td>0.00785</td><td>0.007791</td></tr><tr><td>&quot;TikTok&quot;</td><td>&quot;Za&quot;</td><td>&quot;Africa&quot;</td><td>&quot;en&quot;</td><td>&quot;Art&quot;</td><td>&quot;#Workout&quot;</td><td>&quot;Night Routine — College&quot;</td><td>&quot;BeyondHub&quot;</td><td>&quot;licensed&quot;</td><td>&quot;Gallery pad&quot;</td><td>1</td><td>22</td><td>7385</td><td>363</td><td>33</td><td>38</td><td>69</td><td>0.068111</td><td>&quot;seasonal&quot;</td><td>&quot;TikTok Creative Center&quot;</td><td>&quot;subtitles&quot;</td><td>&quot;Android&quot;</td><td>15</td><td>&quot;Sports&quot;</td><td>11</td><td>&quot;Medium&quot;</td><td>671.36</td><td>12</td><td>0.004469</td><td>0.005146</td><td>0.009343</td><td>27.923077</td><td>&quot;Sunday&quot;</td><td>&quot;Afternoon&quot;</td><td>&quot;Regular&quot;</td><td>&quot;football, gym, workout&quot;</td><td>&quot;Instant like!&quot;</td><td>108139.9</td><td>&quot;Mid&quot;</td><td>&quot;Fall&quot;</td><td>&quot;2025-01-05&quot;</td><td>&quot;2025-01&quot;</td><td>&quot;Football skills in 60s&quot;</td><td>22</td><td>0</td><td>11.7</td><td>0.532</td><td>&quot;Huawei&quot;</td><td>&quot;External&quot;</td><td>1</td><td>&quot;0d88a011235a82244995ef52961f95…</td><td>503</td><td>0.049154</td><td>0.001625</td><td>68.111</td><td>0.049154</td><td>0.004469</td><td>0.005146</td></tr></tbody></table></div>"
      ],
      "text/plain": [
       "shape: (3, 58)\n",
       "┌──────────┬─────────┬────────┬──────────┬───┬─────────────┬─────────────┬────────────┬────────────┐\n",
       "│ platform ┆ country ┆ region ┆ language ┆ … ┆ engagement_ ┆ engagement_ ┆ engagement ┆ engagement │\n",
       "│ ---      ┆ ---     ┆ ---    ┆ ---      ┆   ┆ per_1k      ┆ like_rate   ┆ _comment_r ┆ _share_rat │\n",
       "│ str      ┆ str     ┆ str    ┆ str      ┆   ┆ ---         ┆ ---         ┆ ate        ┆ e          │\n",
       "│          ┆         ┆        ┆          ┆   ┆ f64         ┆ f64         ┆ ---        ┆ ---        │\n",
       "│          ┆         ┆        ┆          ┆   ┆             ┆             ┆ f64        ┆ f64        │\n",
       "╞══════════╪═════════╪════════╪══════════╪═══╪═════════════╪═════════════╪════════════╪════════════╡\n",
       "│ TikTok   ┆ Jp      ┆ Asia   ┆ ja       ┆ … ┆ 120.069     ┆ 0.086159    ┆ 0.012555   ┆ 0.00783    │\n",
       "│ TikTok   ┆ Se      ┆ Europe ┆ sv       ┆ … ┆ 113.005     ┆ 0.085298    ┆ 0.00785    ┆ 0.007791   │\n",
       "│ TikTok   ┆ Za      ┆ Africa ┆ en       ┆ … ┆ 68.111      ┆ 0.049154    ┆ 0.004469   ┆ 0.005146   │\n",
       "└──────────┴─────────┴────────┴──────────┴───┴─────────────┴─────────────┴────────────┴────────────┘"
      ]
     },
     "metadata": {},
     "output_type": "display_data"
    },
    {
     "data": {
      "text/html": [
       "<div><style>\n",
       ".dataframe > thead > tr,\n",
       ".dataframe > tbody > tr {\n",
       "  text-align: right;\n",
       "  white-space: pre-wrap;\n",
       "}\n",
       "</style>\n",
       "<small>shape: (3, 14)</small><table border=\"1\" class=\"dataframe\"><thead><tr><th>country</th><th>platform</th><th>total_videos</th><th>total_views</th><th>median_er</th><th>p95_views</th><th>avg_duration</th><th>avg_velocity</th><th>avg_comment_ratio</th><th>avg_share_rate</th><th>avg_save_rate</th><th>avg_engagement_per_1k</th><th>top_hashtag</th><th>top_hashtag_views</th></tr><tr><td>str</td><td>str</td><td>i64</td><td>i64</td><td>f64</td><td>f64</td><td>f64</td><td>f64</td><td>f64</td><td>f64</td><td>f64</td><td>f64</td><td>str</td><td>i64</td></tr></thead><tbody><tr><td>&quot;Ae&quot;</td><td>&quot;TikTok&quot;</td><td>1017</td><td>102064271</td><td>0.09</td><td>325484.4</td><td>29.7335</td><td>13785.7142</td><td>0.0077</td><td>0.0068</td><td>0.0072</td><td>92.4015</td><td>&quot;#FYP&quot;</td><td>26292844</td></tr><tr><td>&quot;Ae&quot;</td><td>&quot;YouTube&quot;</td><td>641</td><td>67638733</td><td>0.0492</td><td>332142.0</td><td>41.8721</td><td>14381.0054</td><td>0.0043</td><td>0.0038</td><td>0.004</td><td>51.2265</td><td>&quot;#FYP&quot;</td><td>18272805</td></tr><tr><td>&quot;Ar&quot;</td><td>&quot;TikTok&quot;</td><td>1032</td><td>103715112</td><td>0.0877</td><td>311367.55</td><td>29.7025</td><td>13126.5611</td><td>0.0076</td><td>0.0067</td><td>0.0071</td><td>90.0953</td><td>&quot;#FYP&quot;</td><td>27220930</td></tr></tbody></table></div>"
      ],
      "text/plain": [
       "shape: (3, 14)\n",
       "┌─────────┬──────────┬────────────┬────────────┬───┬───────────┬───────────┬───────────┬───────────┐\n",
       "│ country ┆ platform ┆ total_vide ┆ total_view ┆ … ┆ avg_save_ ┆ avg_engag ┆ top_hasht ┆ top_hasht │\n",
       "│ ---     ┆ ---      ┆ os         ┆ s          ┆   ┆ rate      ┆ ement_per ┆ ag        ┆ ag_views  │\n",
       "│ str     ┆ str      ┆ ---        ┆ ---        ┆   ┆ ---       ┆ _1k       ┆ ---       ┆ ---       │\n",
       "│         ┆          ┆ i64        ┆ i64        ┆   ┆ f64       ┆ ---       ┆ str       ┆ i64       │\n",
       "│         ┆          ┆            ┆            ┆   ┆           ┆ f64       ┆           ┆           │\n",
       "╞═════════╪══════════╪════════════╪════════════╪═══╪═══════════╪═══════════╪═══════════╪═══════════╡\n",
       "│ Ae      ┆ TikTok   ┆ 1017       ┆ 102064271  ┆ … ┆ 0.0072    ┆ 92.4015   ┆ #FYP      ┆ 26292844  │\n",
       "│ Ae      ┆ YouTube  ┆ 641        ┆ 67638733   ┆ … ┆ 0.004     ┆ 51.2265   ┆ #FYP      ┆ 18272805  │\n",
       "│ Ar      ┆ TikTok   ┆ 1032       ┆ 103715112  ┆ … ┆ 0.0071    ┆ 90.0953   ┆ #FYP      ┆ 27220930  │\n",
       "└─────────┴──────────┴────────────┴────────────┴───┴───────────┴───────────┴───────────┴───────────┘"
      ]
     },
     "metadata": {},
     "output_type": "display_data"
    },
    {
     "name": "stdout",
     "output_type": "stream",
     "text": [
      "--- End of dataset preview ---\n",
      "\n"
     ]
    }
   ],
   "source": [
    "# Display first few rows of each dataset\n",
    "print(\"First few rows of each dataset:\")\n",
    "display(monthly_trends.head(3))\n",
    "display(top_creators.head(3))\n",
    "display(top_hashtags.head(3))\n",
    "display(shorts_vs_tiktok.head(3))\n",
    "display(platform_summary.head(3))\n",
    "print(\"--- End of dataset preview ---\\n\")\n"
   ]
  },
  {
   "cell_type": "code",
   "execution_count": 36,
   "id": "3e9df907",
   "metadata": {},
   "outputs": [
    {
     "name": "stdout",
     "output_type": "stream",
     "text": [
      "Summary statistics of each dataset:\n"
     ]
    },
    {
     "data": {
      "text/html": [
       "<div><style>\n",
       ".dataframe > thead > tr,\n",
       ".dataframe > tbody > tr {\n",
       "  text-align: right;\n",
       "  white-space: pre-wrap;\n",
       "}\n",
       "</style>\n",
       "<small>shape: (9, 9)</small><table border=\"1\" class=\"dataframe\"><thead><tr><th>statistic</th><th>country</th><th>platform</th><th>year_month</th><th>n_videos</th><th>views</th><th>avg_er</th><th>avg_velocity</th><th>trend_label</th></tr><tr><td>str</td><td>str</td><td>str</td><td>str</td><td>f64</td><td>f64</td><td>f64</td><td>f64</td><td>str</td></tr></thead><tbody><tr><td>&quot;count&quot;</td><td>&quot;480&quot;</td><td>&quot;480&quot;</td><td>&quot;480&quot;</td><td>480.0</td><td>480.0</td><td>480.0</td><td>480.0</td><td>&quot;480&quot;</td></tr><tr><td>&quot;null_count&quot;</td><td>&quot;0&quot;</td><td>&quot;0&quot;</td><td>&quot;0&quot;</td><td>0.0</td><td>0.0</td><td>0.0</td><td>0.0</td><td>&quot;0&quot;</td></tr><tr><td>&quot;mean&quot;</td><td>null</td><td>null</td><td>null</td><td>100.164583</td><td>9.9456e6</td><td>0.071325</td><td>13827.294022</td><td>null</td></tr><tr><td>&quot;std&quot;</td><td>null</td><td>null</td><td>null</td><td>23.055982</td><td>2.7228e6</td><td>0.020566</td><td>2576.210652</td><td>null</td></tr><tr><td>&quot;min&quot;</td><td>&quot;AE&quot;</td><td>&quot;TikTok&quot;</td><td>&quot;2025-01&quot;</td><td>52.0</td><td>4.402922e6</td><td>0.046267</td><td>8127.423516</td><td>&quot;declining&quot;</td></tr><tr><td>&quot;25%&quot;</td><td>null</td><td>null</td><td>null</td><td>80.0</td><td>7.746645e6</td><td>0.050687</td><td>11922.079773</td><td>null</td></tr><tr><td>&quot;50%&quot;</td><td>null</td><td>null</td><td>null</td><td>98.0</td><td>9.758886e6</td><td>0.085923</td><td>13520.303509</td><td>null</td></tr><tr><td>&quot;75%&quot;</td><td>null</td><td>null</td><td>null</td><td>120.0</td><td>1.1892837e7</td><td>0.091783</td><td>15502.540476</td><td>null</td></tr><tr><td>&quot;max&quot;</td><td>&quot;ZA&quot;</td><td>&quot;YouTube&quot;</td><td>&quot;2025-08&quot;</td><td>161.0</td><td>1.8611773e7</td><td>0.096982</td><td>23553.853889</td><td>&quot;steady&quot;</td></tr></tbody></table></div>"
      ],
      "text/plain": [
       "shape: (9, 9)\n",
       "┌────────────┬─────────┬──────────┬────────────┬───┬────────────┬──────────┬───────────┬───────────┐\n",
       "│ statistic  ┆ country ┆ platform ┆ year_month ┆ … ┆ views      ┆ avg_er   ┆ avg_veloc ┆ trend_lab │\n",
       "│ ---        ┆ ---     ┆ ---      ┆ ---        ┆   ┆ ---        ┆ ---      ┆ ity       ┆ el        │\n",
       "│ str        ┆ str     ┆ str      ┆ str        ┆   ┆ f64        ┆ f64      ┆ ---       ┆ ---       │\n",
       "│            ┆         ┆          ┆            ┆   ┆            ┆          ┆ f64       ┆ str       │\n",
       "╞════════════╪═════════╪══════════╪════════════╪═══╪════════════╪══════════╪═══════════╪═══════════╡\n",
       "│ count      ┆ 480     ┆ 480      ┆ 480        ┆ … ┆ 480.0      ┆ 480.0    ┆ 480.0     ┆ 480       │\n",
       "│ null_count ┆ 0       ┆ 0        ┆ 0          ┆ … ┆ 0.0        ┆ 0.0      ┆ 0.0       ┆ 0         │\n",
       "│ mean       ┆ null    ┆ null     ┆ null       ┆ … ┆ 9.9456e6   ┆ 0.071325 ┆ 13827.294 ┆ null      │\n",
       "│            ┆         ┆          ┆            ┆   ┆            ┆          ┆ 022       ┆           │\n",
       "│ std        ┆ null    ┆ null     ┆ null       ┆ … ┆ 2.7228e6   ┆ 0.020566 ┆ 2576.2106 ┆ null      │\n",
       "│            ┆         ┆          ┆            ┆   ┆            ┆          ┆ 52        ┆           │\n",
       "│ min        ┆ AE      ┆ TikTok   ┆ 2025-01    ┆ … ┆ 4.402922e6 ┆ 0.046267 ┆ 8127.4235 ┆ declining │\n",
       "│            ┆         ┆          ┆            ┆   ┆            ┆          ┆ 16        ┆           │\n",
       "│ 25%        ┆ null    ┆ null     ┆ null       ┆ … ┆ 7.746645e6 ┆ 0.050687 ┆ 11922.079 ┆ null      │\n",
       "│            ┆         ┆          ┆            ┆   ┆            ┆          ┆ 773       ┆           │\n",
       "│ 50%        ┆ null    ┆ null     ┆ null       ┆ … ┆ 9.758886e6 ┆ 0.085923 ┆ 13520.303 ┆ null      │\n",
       "│            ┆         ┆          ┆            ┆   ┆            ┆          ┆ 509       ┆           │\n",
       "│ 75%        ┆ null    ┆ null     ┆ null       ┆ … ┆ 1.1892837e ┆ 0.091783 ┆ 15502.540 ┆ null      │\n",
       "│            ┆         ┆          ┆            ┆   ┆ 7          ┆          ┆ 476       ┆           │\n",
       "│ max        ┆ ZA      ┆ YouTube  ┆ 2025-08    ┆ … ┆ 1.8611773e ┆ 0.096982 ┆ 23553.853 ┆ steady    │\n",
       "│            ┆         ┆          ┆            ┆   ┆ 7          ┆          ┆ 889       ┆           │\n",
       "└────────────┴─────────┴──────────┴────────────┴───┴────────────┴──────────┴───────────┴───────────┘"
      ]
     },
     "metadata": {},
     "output_type": "display_data"
    },
    {
     "data": {
      "text/html": [
       "<div><style>\n",
       ".dataframe > thead > tr,\n",
       ".dataframe > tbody > tr {\n",
       "  text-align: right;\n",
       "  white-space: pre-wrap;\n",
       "}\n",
       "</style>\n",
       "<small>shape: (9, 21)</small><table border=\"1\" class=\"dataframe\"><thead><tr><th>statistic</th><th>author_handle</th><th>platform</th><th>n_videos</th><th>views</th><th>avg_er</th><th>likes_sum</th><th>dislikes_sum</th><th>comments_sum</th><th>shares_sum</th><th>saves_sum</th><th>total_engagements</th><th>avg_engagement_velocity</th><th>avg_comment_ratio</th><th>avg_share_rate</th><th>avg_save_rate</th><th>avg_like_dislike_ratio</th><th>avg_engagement_per_1k</th><th>avg_like_rate</th><th>avg_dislike_rate</th><th>creator_avg_views</th></tr><tr><td>str</td><td>str</td><td>str</td><td>f64</td><td>f64</td><td>f64</td><td>f64</td><td>f64</td><td>f64</td><td>f64</td><td>f64</td><td>f64</td><td>f64</td><td>f64</td><td>f64</td><td>f64</td><td>f64</td><td>f64</td><td>f64</td><td>f64</td><td>f64</td></tr></thead><tbody><tr><td>&quot;count&quot;</td><td>&quot;1000&quot;</td><td>&quot;1000&quot;</td><td>1000.0</td><td>1000.0</td><td>1000.0</td><td>1000.0</td><td>1000.0</td><td>1000.0</td><td>1000.0</td><td>1000.0</td><td>1000.0</td><td>1000.0</td><td>1000.0</td><td>1000.0</td><td>1000.0</td><td>1000.0</td><td>1000.0</td><td>1000.0</td><td>1000.0</td><td>1000.0</td></tr><tr><td>&quot;null_count&quot;</td><td>&quot;0&quot;</td><td>&quot;0&quot;</td><td>0.0</td><td>0.0</td><td>0.0</td><td>0.0</td><td>0.0</td><td>0.0</td><td>0.0</td><td>0.0</td><td>0.0</td><td>0.0</td><td>0.0</td><td>0.0</td><td>0.0</td><td>0.0</td><td>0.0</td><td>0.0</td><td>0.0</td><td>0.0</td></tr><tr><td>&quot;mean&quot;</td><td>null</td><td>null</td><td>42.465</td><td>4.3552e6</td><td>0.075879</td><td>257384.776</td><td>10513.751</td><td>28183.865</td><td>24834.915</td><td>26489.573</td><td>336893.129</td><td>14845.889342</td><td>0.006342</td><td>0.005595</td><td>0.005982</td><td>36.766501</td><td>75.878799</td><td>0.05796</td><td>0.002449</td><td>102532.157</td></tr><tr><td>&quot;std&quot;</td><td>null</td><td>null</td><td>26.342869</td><td>2.6664e6</td><td>0.020263</td><td>190031.795555</td><td>6659.211004</td><td>20914.041471</td><td>18323.531516</td><td>19561.921253</td><td>248457.038829</td><td>4637.210089</td><td>0.001744</td><td>0.001509</td><td>0.00166</td><td>17.753203</td><td>20.263305</td><td>0.015464</td><td>0.000713</td><td>17963.350671</td></tr><tr><td>&quot;min&quot;</td><td>&quot;Ahmed&quot;</td><td>&quot;TikTok&quot;</td><td>9.0</td><td>1.854548e6</td><td>0.042553</td><td>54460.0</td><td>2319.0</td><td>5757.0</td><td>4645.0</td><td>5021.0</td><td>71114.0</td><td>5242.903158</td><td>0.003355</td><td>0.00286</td><td>0.002909</td><td>11.702222</td><td>42.553286</td><td>0.032481</td><td>0.001307</td><td>62987.8</td></tr><tr><td>&quot;25%&quot;</td><td>null</td><td>null</td><td>24.0</td><td>2.476217e6</td><td>0.051744</td><td>140342.0</td><td>5514.0</td><td>15134.0</td><td>13440.0</td><td>14099.0</td><td>185161.0</td><td>11839.983636</td><td>0.004317</td><td>0.003823</td><td>0.004123</td><td>15.913681</td><td>51.74429</td><td>0.03962</td><td>0.001878</td><td>90488.4</td></tr><tr><td>&quot;50%&quot;</td><td>null</td><td>null</td><td>32.0</td><td>3.402797e6</td><td>0.088199</td><td>191561.0</td><td>8750.0</td><td>20900.0</td><td>18411.0</td><td>19841.0</td><td>250287.0</td><td>13936.596667</td><td>0.007254</td><td>0.006455</td><td>0.006659</td><td>45.12299</td><td>88.199115</td><td>0.067235</td><td>0.002076</td><td>99969.1</td></tr><tr><td>&quot;75%&quot;</td><td>null</td><td>null</td><td>56.0</td><td>5.517457e6</td><td>0.0925193</td><td>324122.0</td><td>12914.0</td><td>35756.0</td><td>31532.0</td><td>33304.0</td><td>426885.0</td><td>16947.840784</td><td>0.007773</td><td>0.0068325</td><td>0.007311</td><td>51.237983</td><td>92.5193</td><td>0.0708</td><td>0.003185</td><td>111410.3</td></tr><tr><td>&quot;max&quot;</td><td>&quot;YukiYT&quot;</td><td>&quot;YouTube&quot;</td><td>148.0</td><td>1.7938952e7</td><td>0.108453</td><td>1.267238e6</td><td>44175.0</td><td>142403.0</td><td>125916.0</td><td>138762.0</td><td>1.660129e6</td><td>38952.964583</td><td>0.009708</td><td>0.008219</td><td>0.010096</td><td>86.744616</td><td>108.453476</td><td>0.08284</td><td>0.004324</td><td>222935.4</td></tr></tbody></table></div>"
      ],
      "text/plain": [
       "shape: (9, 21)\n",
       "┌───────────┬───────────┬──────────┬───────────┬───┬───────────┬───────────┬───────────┬───────────┐\n",
       "│ statistic ┆ author_ha ┆ platform ┆ n_videos  ┆ … ┆ avg_engag ┆ avg_like_ ┆ avg_disli ┆ creator_a │\n",
       "│ ---       ┆ ndle      ┆ ---      ┆ ---       ┆   ┆ ement_per ┆ rate      ┆ ke_rate   ┆ vg_views  │\n",
       "│ str       ┆ ---       ┆ str      ┆ f64       ┆   ┆ _1k       ┆ ---       ┆ ---       ┆ ---       │\n",
       "│           ┆ str       ┆          ┆           ┆   ┆ ---       ┆ f64       ┆ f64       ┆ f64       │\n",
       "│           ┆           ┆          ┆           ┆   ┆ f64       ┆           ┆           ┆           │\n",
       "╞═══════════╪═══════════╪══════════╪═══════════╪═══╪═══════════╪═══════════╪═══════════╪═══════════╡\n",
       "│ count     ┆ 1000      ┆ 1000     ┆ 1000.0    ┆ … ┆ 1000.0    ┆ 1000.0    ┆ 1000.0    ┆ 1000.0    │\n",
       "│ null_coun ┆ 0         ┆ 0        ┆ 0.0       ┆ … ┆ 0.0       ┆ 0.0       ┆ 0.0       ┆ 0.0       │\n",
       "│ t         ┆           ┆          ┆           ┆   ┆           ┆           ┆           ┆           │\n",
       "│ mean      ┆ null      ┆ null     ┆ 42.465    ┆ … ┆ 75.878799 ┆ 0.05796   ┆ 0.002449  ┆ 102532.15 │\n",
       "│           ┆           ┆          ┆           ┆   ┆           ┆           ┆           ┆ 7         │\n",
       "│ std       ┆ null      ┆ null     ┆ 26.342869 ┆ … ┆ 20.263305 ┆ 0.015464  ┆ 0.000713  ┆ 17963.350 │\n",
       "│           ┆           ┆          ┆           ┆   ┆           ┆           ┆           ┆ 671       │\n",
       "│ min       ┆ Ahmed     ┆ TikTok   ┆ 9.0       ┆ … ┆ 42.553286 ┆ 0.032481  ┆ 0.001307  ┆ 62987.8   │\n",
       "│ 25%       ┆ null      ┆ null     ┆ 24.0      ┆ … ┆ 51.74429  ┆ 0.03962   ┆ 0.001878  ┆ 90488.4   │\n",
       "│ 50%       ┆ null      ┆ null     ┆ 32.0      ┆ … ┆ 88.199115 ┆ 0.067235  ┆ 0.002076  ┆ 99969.1   │\n",
       "│ 75%       ┆ null      ┆ null     ┆ 56.0      ┆ … ┆ 92.5193   ┆ 0.0708    ┆ 0.003185  ┆ 111410.3  │\n",
       "│ max       ┆ YukiYT    ┆ YouTube  ┆ 148.0     ┆ … ┆ 108.45347 ┆ 0.08284   ┆ 0.004324  ┆ 222935.4  │\n",
       "│           ┆           ┆          ┆           ┆   ┆ 6         ┆           ┆           ┆           │\n",
       "└───────────┴───────────┴──────────┴───────────┴───┴───────────┴───────────┴───────────┴───────────┘"
      ]
     },
     "metadata": {},
     "output_type": "display_data"
    },
    {
     "data": {
      "text/html": [
       "<div><style>\n",
       ".dataframe > thead > tr,\n",
       ".dataframe > tbody > tr {\n",
       "  text-align: right;\n",
       "  white-space: pre-wrap;\n",
       "}\n",
       "</style>\n",
       "<small>shape: (9, 19)</small><table border=\"1\" class=\"dataframe\"><thead><tr><th>statistic</th><th>platform</th><th>hashtag</th><th>n_videos</th><th>views</th><th>likes</th><th>comments</th><th>shares</th><th>saves</th><th>avg_er</th><th>avg_engagement_velocity</th><th>avg_comment_ratio</th><th>avg_share_rate</th><th>avg_save_rate</th><th>avg_like_dislike_ratio</th><th>avg_engagement_per_1k</th><th>avg_like_rate</th><th>avg_dislike_rate</th><th>total_engagements</th></tr><tr><td>str</td><td>str</td><td>str</td><td>f64</td><td>f64</td><td>f64</td><td>f64</td><td>f64</td><td>f64</td><td>f64</td><td>f64</td><td>f64</td><td>f64</td><td>f64</td><td>f64</td><td>f64</td><td>f64</td><td>f64</td><td>f64</td></tr></thead><tbody><tr><td>&quot;count&quot;</td><td>&quot;82&quot;</td><td>&quot;82&quot;</td><td>82.0</td><td>82.0</td><td>82.0</td><td>82.0</td><td>82.0</td><td>82.0</td><td>82.0</td><td>82.0</td><td>82.0</td><td>82.0</td><td>82.0</td><td>82.0</td><td>82.0</td><td>82.0</td><td>82.0</td><td>82.0</td></tr><tr><td>&quot;null_count&quot;</td><td>&quot;0&quot;</td><td>&quot;0&quot;</td><td>0.0</td><td>0.0</td><td>0.0</td><td>0.0</td><td>0.0</td><td>0.0</td><td>0.0</td><td>0.0</td><td>0.0</td><td>0.0</td><td>0.0</td><td>0.0</td><td>0.0</td><td>0.0</td><td>0.0</td><td>0.0</td></tr><tr><td>&quot;mean&quot;</td><td>null</td><td>null</td><td>606.146341</td><td>6.0185e7</td><td>3.4783e6</td><td>380984.54878</td><td>335587.329268</td><td>358013.439024</td><td>0.071252</td><td>13828.640505</td><td>0.005949</td><td>0.005241</td><td>0.005616</td><td>32.488263</td><td>71.252388</td><td>0.054446</td><td>0.002607</td><td>4.5529e6</td></tr><tr><td>&quot;std&quot;</td><td>null</td><td>null</td><td>923.117773</td><td>9.1899e7</td><td>5.8787e6</td><td>647084.420888</td><td>571559.709322</td><td>611476.905006</td><td>0.02054</td><td>1333.255227</td><td>0.001745</td><td>0.001515</td><td>0.001609</td><td>17.228664</td><td>20.539576</td><td>0.015679</td><td>0.000688</td><td>7.7087e6</td></tr><tr><td>&quot;min&quot;</td><td>&quot;TikTok&quot;</td><td>&quot;#AI&quot;</td><td>26.0</td><td>2.435911e6</td><td>96785.0</td><td>10526.0</td><td>9340.0</td><td>10167.0</td><td>0.048971</td><td>10526.083602</td><td>0.00367</td><td>0.003526</td><td>0.003738</td><td>13.785287</td><td>48.970571</td><td>0.037644</td><td>0.001806</td><td>126896.0</td></tr><tr><td>&quot;25%&quot;</td><td>null</td><td>null</td><td>370.0</td><td>3.720152e7</td><td>1.435941e6</td><td>158224.0</td><td>137780.0</td><td>148225.0</td><td>0.050902</td><td>13024.526164</td><td>0.00422</td><td>0.003741</td><td>0.004015</td><td>15.498121</td><td>50.901968</td><td>0.038811</td><td>0.001932</td><td>1.887284e6</td></tr><tr><td>&quot;50%&quot;</td><td>null</td><td>null</td><td>494.0</td><td>4.8606684e7</td><td>2.320738e6</td><td>242219.0</td><td>220205.0</td><td>230235.0</td><td>0.083718</td><td>13954.979633</td><td>0.007241</td><td>0.006038</td><td>0.006509</td><td>42.067435</td><td>83.717531</td><td>0.063903</td><td>0.003102</td><td>3.013397e6</td></tr><tr><td>&quot;75%&quot;</td><td>null</td><td>null</td><td>583.0</td><td>5.8864171e7</td><td>4.062383e6</td><td>445614.0</td><td>388586.0</td><td>404648.0</td><td>0.091699</td><td>14735.557953</td><td>0.007691</td><td>0.00678</td><td>0.007223</td><td>49.697196</td><td>91.699072</td><td>0.070086</td><td>0.003268</td><td>5.303778e6</td></tr><tr><td>&quot;max&quot;</td><td>&quot;YouTube&quot;</td><td>&quot;#Workout&quot;</td><td>7379.0</td><td>7.34064265e8</td><td>5.140224e7</td><td>5.651829e6</td><td>4.998382e6</td><td>5.348188e6</td><td>0.095668</td><td>16869.724872</td><td>0.008029</td><td>0.006919</td><td>0.007625</td><td>55.193864</td><td>95.668146</td><td>0.073752</td><td>0.003712</td><td>6.7400639e7</td></tr></tbody></table></div>"
      ],
      "text/plain": [
       "shape: (9, 19)\n",
       "┌────────────┬──────────┬──────────┬───────────┬───┬───────────┬───────────┬───────────┬───────────┐\n",
       "│ statistic  ┆ platform ┆ hashtag  ┆ n_videos  ┆ … ┆ avg_engag ┆ avg_like_ ┆ avg_disli ┆ total_eng │\n",
       "│ ---        ┆ ---      ┆ ---      ┆ ---       ┆   ┆ ement_per ┆ rate      ┆ ke_rate   ┆ agements  │\n",
       "│ str        ┆ str      ┆ str      ┆ f64       ┆   ┆ _1k       ┆ ---       ┆ ---       ┆ ---       │\n",
       "│            ┆          ┆          ┆           ┆   ┆ ---       ┆ f64       ┆ f64       ┆ f64       │\n",
       "│            ┆          ┆          ┆           ┆   ┆ f64       ┆           ┆           ┆           │\n",
       "╞════════════╪══════════╪══════════╪═══════════╪═══╪═══════════╪═══════════╪═══════════╪═══════════╡\n",
       "│ count      ┆ 82       ┆ 82       ┆ 82.0      ┆ … ┆ 82.0      ┆ 82.0      ┆ 82.0      ┆ 82.0      │\n",
       "│ null_count ┆ 0        ┆ 0        ┆ 0.0       ┆ … ┆ 0.0       ┆ 0.0       ┆ 0.0       ┆ 0.0       │\n",
       "│ mean       ┆ null     ┆ null     ┆ 606.14634 ┆ … ┆ 71.252388 ┆ 0.054446  ┆ 0.002607  ┆ 4.5529e6  │\n",
       "│            ┆          ┆          ┆ 1         ┆   ┆           ┆           ┆           ┆           │\n",
       "│ std        ┆ null     ┆ null     ┆ 923.11777 ┆ … ┆ 20.539576 ┆ 0.015679  ┆ 0.000688  ┆ 7.7087e6  │\n",
       "│            ┆          ┆          ┆ 3         ┆   ┆           ┆           ┆           ┆           │\n",
       "│ min        ┆ TikTok   ┆ #AI      ┆ 26.0      ┆ … ┆ 48.970571 ┆ 0.037644  ┆ 0.001806  ┆ 126896.0  │\n",
       "│ 25%        ┆ null     ┆ null     ┆ 370.0     ┆ … ┆ 50.901968 ┆ 0.038811  ┆ 0.001932  ┆ 1.887284e │\n",
       "│            ┆          ┆          ┆           ┆   ┆           ┆           ┆           ┆ 6         │\n",
       "│ 50%        ┆ null     ┆ null     ┆ 494.0     ┆ … ┆ 83.717531 ┆ 0.063903  ┆ 0.003102  ┆ 3.013397e │\n",
       "│            ┆          ┆          ┆           ┆   ┆           ┆           ┆           ┆ 6         │\n",
       "│ 75%        ┆ null     ┆ null     ┆ 583.0     ┆ … ┆ 91.699072 ┆ 0.070086  ┆ 0.003268  ┆ 5.303778e │\n",
       "│            ┆          ┆          ┆           ┆   ┆           ┆           ┆           ┆ 6         │\n",
       "│ max        ┆ YouTube  ┆ #Workout ┆ 7379.0    ┆ … ┆ 95.668146 ┆ 0.073752  ┆ 0.003712  ┆ 6.7400639 │\n",
       "│            ┆          ┆          ┆           ┆   ┆           ┆           ┆           ┆ e7        │\n",
       "└────────────┴──────────┴──────────┴───────────┴───┴───────────┴───────────┴───────────┴───────────┘"
      ]
     },
     "metadata": {},
     "output_type": "display_data"
    },
    {
     "data": {
      "text/html": [
       "<div><style>\n",
       ".dataframe > thead > tr,\n",
       ".dataframe > tbody > tr {\n",
       "  text-align: right;\n",
       "  white-space: pre-wrap;\n",
       "}\n",
       "</style>\n",
       "<small>shape: (9, 59)</small><table border=\"1\" class=\"dataframe\"><thead><tr><th>statistic</th><th>platform</th><th>country</th><th>region</th><th>language</th><th>category</th><th>hashtag</th><th>title_keywords</th><th>author_handle</th><th>sound_type</th><th>music_track</th><th>week_of_year</th><th>duration_sec</th><th>views</th><th>likes</th><th>comments</th><th>shares</th><th>saves</th><th>engagement_rate</th><th>trend_label</th><th>source_hint</th><th>notes</th><th>device_type</th><th>upload_hour</th><th>genre</th><th>trend_duration_days</th><th>trend_type</th><th>engagement_velocity</th><th>dislikes</th><th>comment_ratio</th><th>share_rate</th><th>save_rate</th><th>like_dislike_ratio</th><th>publish_dayofweek</th><th>publish_period</th><th>event_season</th><th>tags</th><th>sample_comments</th><th>creator_avg_views</th><th>creator_tier</th><th>season</th><th>publish_date_approx</th><th>year_month</th><th>title</th><th>title_length</th><th>has_emoji</th><th>avg_watch_time_sec</th><th>completion_rate</th><th>device_brand</th><th>traffic_source</th><th>is_weekend</th><th>row_id</th><th>engagement_total</th><th>like_rate</th><th>dislike_rate</th><th>engagement_per_1k</th><th>engagement_like_rate</th><th>engagement_comment_rate</th><th>engagement_share_rate</th></tr><tr><td>str</td><td>str</td><td>str</td><td>str</td><td>str</td><td>str</td><td>str</td><td>str</td><td>str</td><td>str</td><td>str</td><td>f64</td><td>f64</td><td>f64</td><td>f64</td><td>f64</td><td>f64</td><td>f64</td><td>f64</td><td>str</td><td>str</td><td>str</td><td>str</td><td>f64</td><td>str</td><td>f64</td><td>str</td><td>f64</td><td>f64</td><td>f64</td><td>f64</td><td>f64</td><td>f64</td><td>str</td><td>str</td><td>str</td><td>str</td><td>str</td><td>f64</td><td>str</td><td>str</td><td>str</td><td>str</td><td>str</td><td>f64</td><td>f64</td><td>f64</td><td>f64</td><td>str</td><td>str</td><td>f64</td><td>str</td><td>f64</td><td>f64</td><td>f64</td><td>f64</td><td>f64</td><td>f64</td><td>f64</td></tr></thead><tbody><tr><td>&quot;count&quot;</td><td>&quot;48079&quot;</td><td>&quot;48079&quot;</td><td>&quot;48079&quot;</td><td>&quot;48079&quot;</td><td>&quot;48079&quot;</td><td>&quot;48079&quot;</td><td>&quot;48079&quot;</td><td>&quot;48079&quot;</td><td>&quot;48079&quot;</td><td>&quot;48079&quot;</td><td>48079.0</td><td>48079.0</td><td>48079.0</td><td>48079.0</td><td>48079.0</td><td>48079.0</td><td>48079.0</td><td>48079.0</td><td>&quot;48079&quot;</td><td>&quot;48079&quot;</td><td>&quot;48079&quot;</td><td>&quot;48079&quot;</td><td>48079.0</td><td>&quot;48079&quot;</td><td>48079.0</td><td>&quot;48079&quot;</td><td>48079.0</td><td>48079.0</td><td>48079.0</td><td>48079.0</td><td>48079.0</td><td>48079.0</td><td>&quot;48079&quot;</td><td>&quot;48079&quot;</td><td>&quot;48079&quot;</td><td>&quot;48079&quot;</td><td>&quot;48079&quot;</td><td>48079.0</td><td>&quot;48079&quot;</td><td>&quot;48079&quot;</td><td>&quot;48079&quot;</td><td>&quot;48079&quot;</td><td>&quot;48079&quot;</td><td>48079.0</td><td>48079.0</td><td>48079.0</td><td>48079.0</td><td>&quot;48079&quot;</td><td>&quot;48079&quot;</td><td>48079.0</td><td>&quot;48079&quot;</td><td>48079.0</td><td>48079.0</td><td>48079.0</td><td>48079.0</td><td>48079.0</td><td>48079.0</td><td>48079.0</td></tr><tr><td>&quot;null_count&quot;</td><td>&quot;0&quot;</td><td>&quot;0&quot;</td><td>&quot;0&quot;</td><td>&quot;0&quot;</td><td>&quot;0&quot;</td><td>&quot;0&quot;</td><td>&quot;0&quot;</td><td>&quot;0&quot;</td><td>&quot;0&quot;</td><td>&quot;0&quot;</td><td>0.0</td><td>0.0</td><td>0.0</td><td>0.0</td><td>0.0</td><td>0.0</td><td>0.0</td><td>0.0</td><td>&quot;0&quot;</td><td>&quot;0&quot;</td><td>&quot;0&quot;</td><td>&quot;0&quot;</td><td>0.0</td><td>&quot;0&quot;</td><td>0.0</td><td>&quot;0&quot;</td><td>0.0</td><td>0.0</td><td>0.0</td><td>0.0</td><td>0.0</td><td>0.0</td><td>&quot;0&quot;</td><td>&quot;0&quot;</td><td>&quot;0&quot;</td><td>&quot;0&quot;</td><td>&quot;0&quot;</td><td>0.0</td><td>&quot;0&quot;</td><td>&quot;0&quot;</td><td>&quot;0&quot;</td><td>&quot;0&quot;</td><td>&quot;0&quot;</td><td>0.0</td><td>0.0</td><td>0.0</td><td>0.0</td><td>&quot;0&quot;</td><td>&quot;0&quot;</td><td>0.0</td><td>&quot;0&quot;</td><td>0.0</td><td>0.0</td><td>0.0</td><td>0.0</td><td>0.0</td><td>0.0</td><td>0.0</td></tr><tr><td>&quot;mean&quot;</td><td>null</td><td>null</td><td>null</td><td>null</td><td>null</td><td>null</td><td>null</td><td>null</td><td>null</td><td>null</td><td>18.23426</td><td>34.48932</td><td>99292.760894</td><td>5737.732108</td><td>628.657314</td><td>553.484494</td><td>591.071487</td><td>0.075415</td><td>null</td><td>null</td><td>null</td><td>null</td><td>15.986751</td><td>null</td><td>13.742923</td><td>null</td><td>13889.926787</td><td>245.070759</td><td>0.00631</td><td>0.005556</td><td>0.005942</td><td>36.314111</td><td>null</td><td>null</td><td>null</td><td>null</td><td>null</td><td>99208.507637</td><td>null</td><td>null</td><td>null</td><td>null</td><td>null</td><td>22.898688</td><td>0.460388</td><td>21.66246</td><td>0.635308</td><td>null</td><td>null</td><td>0.622995</td><td>null</td><td>7510.945402</td><td>0.057607</td><td>0.002462</td><td>75.415322</td><td>0.057607</td><td>0.00631</td><td>0.005556</td></tr><tr><td>&quot;std&quot;</td><td>null</td><td>null</td><td>null</td><td>null</td><td>null</td><td>null</td><td>null</td><td>null</td><td>null</td><td>null</td><td>9.996924</td><td>16.401608</td><td>131852.208725</td><td>8639.923653</td><td>967.782704</td><td>849.436172</td><td>978.280616</td><td>0.030091</td><td>null</td><td>null</td><td>null</td><td>null</td><td>5.489399</td><td>null</td><td>13.343582</td><td>null</td><td>24260.729552</td><td>416.436983</td><td>0.002969</td><td>0.002496</td><td>0.003639</td><td>33.057494</td><td>null</td><td>null</td><td>null</td><td>null</td><td>null</td><td>16405.006062</td><td>null</td><td>null</td><td>null</td><td>null</td><td>null</td><td>4.446883</td><td>0.498434</td><td>10.583019</td><td>0.112604</td><td>null</td><td>null</td><td>0.484641</td><td>null</td><td>11262.284575</td><td>0.023123</td><td>0.001586</td><td>30.090519</td><td>0.023123</td><td>0.002969</td><td>0.002496</td></tr><tr><td>&quot;min&quot;</td><td>&quot;TikTok&quot;</td><td>&quot;Ae&quot;</td><td>&quot;Africa&quot;</td><td>&quot;ar&quot;</td><td>&quot;Art&quot;</td><td>&quot;#AI&quot;</td><td>&quot;24 Hours in Cairo&quot;</td><td>&quot;Ahmed&quot;</td><td>&quot;licensed&quot;</td><td>&quot;8bit loop&quot;</td><td>1.0</td><td>5.0</td><td>794.0</td><td>33.0</td><td>3.0</td><td>3.0</td><td>2.0</td><td>0.01472</td><td>&quot;declining&quot;</td><td>&quot;Open Web Samples&quot;</td><td>&quot;b-roll heavy&quot;</td><td>&quot;Android&quot;</td><td>0.0</td><td>&quot;Beauty&quot;</td><td>3.0</td><td>&quot;Evergreen&quot;</td><td>35.31</td><td>0.0</td><td>0.000975</td><td>0.000735</td><td>0.000735</td><td>6.142857</td><td>&quot;Friday&quot;</td><td>&quot;Afternoon&quot;</td><td>&quot;BackToSchool&quot;</td><td>&quot;ai, apps, tech&quot;</td><td>&quot;Can’t stop watching 😂&quot;</td><td>44841.3</td><td>&quot;Micro&quot;</td><td>&quot;Fall&quot;</td><td>&quot;2025-01-01&quot;</td><td>&quot;2025-01&quot;</td><td>&quot;24 Hours in Cairo&quot;</td><td>9.0</td><td>0.0</td><td>2.8</td><td>0.4</td><td>&quot;Desktop&quot;</td><td>&quot;External&quot;</td><td>0.0</td><td>&quot;00018c6fe8336a10bc74cb22b68320…</td><td>43.0</td><td>0.011792</td><td>0.0</td><td>14.72</td><td>0.011792</td><td>0.000975</td><td>0.000735</td></tr><tr><td>&quot;25%&quot;</td><td>null</td><td>null</td><td>null</td><td>null</td><td>null</td><td>null</td><td>null</td><td>null</td><td>null</td><td>null</td><td>10.0</td><td>22.0</td><td>30323.0</td><td>1526.0</td><td>160.0</td><td>143.0</td><td>138.0</td><td>0.052326</td><td>null</td><td>null</td><td>null</td><td>null</td><td>13.0</td><td>null</td><td>5.0</td><td>null</td><td>2628.56</td><td>53.0</td><td>0.004058</td><td>0.00367</td><td>0.003373</td><td>14.53012</td><td>null</td><td>null</td><td>null</td><td>null</td><td>null</td><td>88495.0</td><td>null</td><td>null</td><td>null</td><td>null</td><td>null</td><td>20.0</td><td>0.0</td><td>14.0</td><td>0.548</td><td>null</td><td>null</td><td>0.0</td><td>null</td><td>1998.0</td><td>0.039941</td><td>0.001273</td><td>52.326</td><td>0.039941</td><td>0.004058</td><td>0.00367</td></tr><tr><td>&quot;50%&quot;</td><td>null</td><td>null</td><td>null</td><td>null</td><td>null</td><td>null</td><td>null</td><td>null</td><td>null</td><td>null</td><td>18.0</td><td>31.0</td><td>59620.0</td><td>3167.0</td><td>339.0</td><td>301.0</td><td>301.0</td><td>0.071575</td><td>null</td><td>null</td><td>null</td><td>null</td><td>17.0</td><td>null</td><td>7.0</td><td>null</td><td>6490.55</td><td>121.0</td><td>0.005809</td><td>0.005163</td><td>0.004961</td><td>26.018868</td><td>null</td><td>null</td><td>null</td><td>null</td><td>null</td><td>97585.7</td><td>null</td><td>null</td><td>null</td><td>null</td><td>null</td><td>23.0</td><td>0.0</td><td>19.4</td><td>0.635</td><td>null</td><td>null</td><td>1.0</td><td>null</td><td>4159.0</td><td>0.054654</td><td>0.002138</td><td>71.575</td><td>0.054654</td><td>0.005809</td><td>0.005163</td></tr><tr><td>&quot;75%&quot;</td><td>null</td><td>null</td><td>null</td><td>null</td><td>null</td><td>null</td><td>null</td><td>null</td><td>null</td><td>null</td><td>27.0</td><td>43.0</td><td>118098.0</td><td>6618.0</td><td>720.0</td><td>635.0</td><td>660.0</td><td>0.094797</td><td>null</td><td>null</td><td>null</td><td>null</td><td>20.0</td><td>null</td><td>17.0</td><td>null</td><td>15534.67</td><td>272.0</td><td>0.008016</td><td>0.007</td><td>0.007478</td><td>42.906667</td><td>null</td><td>null</td><td>null</td><td>null</td><td>null</td><td>107658.0</td><td>null</td><td>null</td><td>null</td><td>null</td><td>null</td><td>26.0</td><td>1.0</td><td>27.0</td><td>0.724</td><td>null</td><td>null</td><td>1.0</td><td>null</td><td>8675.0</td><td>0.072282</td><td>0.003276</td><td>94.797</td><td>0.072282</td><td>0.008016</td><td>0.007</td></tr><tr><td>&quot;max&quot;</td><td>&quot;YouTube&quot;</td><td>&quot;Za&quot;</td><td>&quot;South America&quot;</td><td>&quot;zh&quot;</td><td>&quot;Travel&quot;</td><td>&quot;#Workout&quot;</td><td>&quot;When your friend is Summer&quot;</td><td>&quot;YukiYT&quot;</td><td>&quot;trending&quot;</td><td>&quot;Woodshop groove&quot;</td><td>35.0</td><td>90.0</td><td>3.080686e6</td><td>310916.0</td><td>31776.0</td><td>29004.0</td><td>29679.0</td><td>0.235819</td><td>&quot;stable&quot;</td><td>&quot;TikTok Creative Center&quot;</td><td>&quot;tutorial overlay&quot;</td><td>&quot;iOS&quot;</td><td>23.0</td><td>&quot;Travel&quot;</td><td>60.0</td><td>&quot;Short&quot;</td><td>698214.0</td><td>15029.0</td><td>0.023668</td><td>0.020328</td><td>0.032676</td><td>199.517241</td><td>&quot;Wednesday&quot;</td><td>&quot;Night&quot;</td><td>&quot;SummerBreak&quot;</td><td>&quot;workout, sports, gym, football&quot;</td><td>&quot;最高です！&quot;</td><td>222935.4</td><td>&quot;Mid&quot;</td><td>&quot;Winter&quot;</td><td>&quot;2025-08-31&quot;</td><td>&quot;2025-08&quot;</td><td>&quot;Workout you can’t skip 🧠&quot;</td><td>36.0</td><td>1.0</td><td>67.3</td><td>0.85</td><td>&quot;iPhone&quot;</td><td>&quot;Suggested&quot;</td><td>1.0</td><td>&quot;fffee5bd21ea5e9248966170cbe05a…</td><td>390142.0</td><td>0.1853</td><td>0.012718</td><td>235.819</td><td>0.1853</td><td>0.023668</td><td>0.020328</td></tr></tbody></table></div>"
      ],
      "text/plain": [
       "shape: (9, 59)\n",
       "┌────────────┬──────────┬─────────┬────────────┬───┬───────────┬───────────┬───────────┬───────────┐\n",
       "│ statistic  ┆ platform ┆ country ┆ region     ┆ … ┆ engagemen ┆ engagemen ┆ engagemen ┆ engagemen │\n",
       "│ ---        ┆ ---      ┆ ---     ┆ ---        ┆   ┆ t_per_1k  ┆ t_like_ra ┆ t_comment ┆ t_share_r │\n",
       "│ str        ┆ str      ┆ str     ┆ str        ┆   ┆ ---       ┆ te        ┆ _rate     ┆ ate       │\n",
       "│            ┆          ┆         ┆            ┆   ┆ f64       ┆ ---       ┆ ---       ┆ ---       │\n",
       "│            ┆          ┆         ┆            ┆   ┆           ┆ f64       ┆ f64       ┆ f64       │\n",
       "╞════════════╪══════════╪═════════╪════════════╪═══╪═══════════╪═══════════╪═══════════╪═══════════╡\n",
       "│ count      ┆ 48079    ┆ 48079   ┆ 48079      ┆ … ┆ 48079.0   ┆ 48079.0   ┆ 48079.0   ┆ 48079.0   │\n",
       "│ null_count ┆ 0        ┆ 0       ┆ 0          ┆ … ┆ 0.0       ┆ 0.0       ┆ 0.0       ┆ 0.0       │\n",
       "│ mean       ┆ null     ┆ null    ┆ null       ┆ … ┆ 75.415322 ┆ 0.057607  ┆ 0.00631   ┆ 0.005556  │\n",
       "│ std        ┆ null     ┆ null    ┆ null       ┆ … ┆ 30.090519 ┆ 0.023123  ┆ 0.002969  ┆ 0.002496  │\n",
       "│ min        ┆ TikTok   ┆ Ae      ┆ Africa     ┆ … ┆ 14.72     ┆ 0.011792  ┆ 0.000975  ┆ 0.000735  │\n",
       "│ 25%        ┆ null     ┆ null    ┆ null       ┆ … ┆ 52.326    ┆ 0.039941  ┆ 0.004058  ┆ 0.00367   │\n",
       "│ 50%        ┆ null     ┆ null    ┆ null       ┆ … ┆ 71.575    ┆ 0.054654  ┆ 0.005809  ┆ 0.005163  │\n",
       "│ 75%        ┆ null     ┆ null    ┆ null       ┆ … ┆ 94.797    ┆ 0.072282  ┆ 0.008016  ┆ 0.007     │\n",
       "│ max        ┆ YouTube  ┆ Za      ┆ South      ┆ … ┆ 235.819   ┆ 0.1853    ┆ 0.023668  ┆ 0.020328  │\n",
       "│            ┆          ┆         ┆ America    ┆   ┆           ┆           ┆           ┆           │\n",
       "└────────────┴──────────┴─────────┴────────────┴───┴───────────┴───────────┴───────────┴───────────┘"
      ]
     },
     "metadata": {},
     "output_type": "display_data"
    },
    {
     "data": {
      "text/html": [
       "<div><style>\n",
       ".dataframe > thead > tr,\n",
       ".dataframe > tbody > tr {\n",
       "  text-align: right;\n",
       "  white-space: pre-wrap;\n",
       "}\n",
       "</style>\n",
       "<small>shape: (9, 15)</small><table border=\"1\" class=\"dataframe\"><thead><tr><th>statistic</th><th>country</th><th>platform</th><th>total_videos</th><th>total_views</th><th>median_er</th><th>p95_views</th><th>avg_duration</th><th>avg_velocity</th><th>avg_comment_ratio</th><th>avg_share_rate</th><th>avg_save_rate</th><th>avg_engagement_per_1k</th><th>top_hashtag</th><th>top_hashtag_views</th></tr><tr><td>str</td><td>str</td><td>str</td><td>f64</td><td>f64</td><td>f64</td><td>f64</td><td>f64</td><td>f64</td><td>f64</td><td>f64</td><td>f64</td><td>f64</td><td>str</td><td>f64</td></tr></thead><tbody><tr><td>&quot;count&quot;</td><td>&quot;60&quot;</td><td>&quot;60&quot;</td><td>60.0</td><td>60.0</td><td>60.0</td><td>60.0</td><td>60.0</td><td>60.0</td><td>60.0</td><td>60.0</td><td>60.0</td><td>60.0</td><td>&quot;60&quot;</td><td>60.0</td></tr><tr><td>&quot;null_count&quot;</td><td>&quot;0&quot;</td><td>&quot;0&quot;</td><td>0.0</td><td>0.0</td><td>0.0</td><td>0.0</td><td>0.0</td><td>0.0</td><td>0.0</td><td>0.0</td><td>0.0</td><td>0.0</td><td>&quot;0&quot;</td><td>0.0</td></tr><tr><td>&quot;mean&quot;</td><td>null</td><td>null</td><td>828.4</td><td>8.2253e7</td><td>0.06897</td><td>310649.811667</td><td>35.55769</td><td>13834.463982</td><td>0.005967</td><td>0.005258</td><td>0.00562</td><td>71.333512</td><td>null</td><td>2.0417e7</td></tr><tr><td>&quot;std&quot;</td><td>null</td><td>null</td><td>170.134961</td><td>1.7701e7</td><td>0.020077</td><td>23746.423466</td><td>5.385776</td><td>877.161095</td><td>0.00174</td><td>0.001529</td><td>0.001616</td><td>20.648183</td><td>null</td><td>4.8638e6</td></tr><tr><td>&quot;min&quot;</td><td>&quot;Ae&quot;</td><td>&quot;TikTok&quot;</td><td>622.0</td><td>5.6657544e7</td><td>0.048</td><td>255072.8</td><td>29.6406</td><td>11980.486</td><td>0.0041</td><td>0.0037</td><td>0.0039</td><td>49.995</td><td>&quot;#FYP&quot;</td><td>1.1677229e7</td></tr><tr><td>&quot;25%&quot;</td><td>null</td><td>null</td><td>658.0</td><td>6.5161659e7</td><td>0.0491</td><td>299552.0</td><td>30.1471</td><td>13197.2175</td><td>0.0042</td><td>0.0037</td><td>0.004</td><td>50.8593</td><td>null</td><td>1.6038509e7</td></tr><tr><td>&quot;50%&quot;</td><td>null</td><td>null</td><td>921.0</td><td>8.9611793e7</td><td>0.0862</td><td>312119.4</td><td>39.9874</td><td>13764.9966</td><td>0.0075</td><td>0.0066</td><td>0.007</td><td>90.0953</td><td>null</td><td>2.052802e7</td></tr><tr><td>&quot;75%&quot;</td><td>null</td><td>null</td><td>989.0</td><td>9.9338866e7</td><td>0.0887</td><td>323309.55</td><td>40.7886</td><td>14443.0551</td><td>0.0077</td><td>0.0068</td><td>0.0072</td><td>91.808</td><td>null</td><td>2.4506073e7</td></tr><tr><td>&quot;max&quot;</td><td>&quot;Za&quot;</td><td>&quot;YouTube&quot;</td><td>1068.0</td><td>1.07832411e8</td><td>0.0908</td><td>374575.2</td><td>41.9608</td><td>15794.279</td><td>0.0079</td><td>0.0069</td><td>0.0075</td><td>93.0037</td><td>&quot;#FYP&quot;</td><td>3.0145268e7</td></tr></tbody></table></div>"
      ],
      "text/plain": [
       "shape: (9, 15)\n",
       "┌────────────┬─────────┬──────────┬────────────┬───┬───────────┬───────────┬───────────┬───────────┐\n",
       "│ statistic  ┆ country ┆ platform ┆ total_vide ┆ … ┆ avg_save_ ┆ avg_engag ┆ top_hasht ┆ top_hasht │\n",
       "│ ---        ┆ ---     ┆ ---      ┆ os         ┆   ┆ rate      ┆ ement_per ┆ ag        ┆ ag_views  │\n",
       "│ str        ┆ str     ┆ str      ┆ ---        ┆   ┆ ---       ┆ _1k       ┆ ---       ┆ ---       │\n",
       "│            ┆         ┆          ┆ f64        ┆   ┆ f64       ┆ ---       ┆ str       ┆ f64       │\n",
       "│            ┆         ┆          ┆            ┆   ┆           ┆ f64       ┆           ┆           │\n",
       "╞════════════╪═════════╪══════════╪════════════╪═══╪═══════════╪═══════════╪═══════════╪═══════════╡\n",
       "│ count      ┆ 60      ┆ 60       ┆ 60.0       ┆ … ┆ 60.0      ┆ 60.0      ┆ 60        ┆ 60.0      │\n",
       "│ null_count ┆ 0       ┆ 0        ┆ 0.0        ┆ … ┆ 0.0       ┆ 0.0       ┆ 0         ┆ 0.0       │\n",
       "│ mean       ┆ null    ┆ null     ┆ 828.4      ┆ … ┆ 0.00562   ┆ 71.333512 ┆ null      ┆ 2.0417e7  │\n",
       "│ std        ┆ null    ┆ null     ┆ 170.134961 ┆ … ┆ 0.001616  ┆ 20.648183 ┆ null      ┆ 4.8638e6  │\n",
       "│ min        ┆ Ae      ┆ TikTok   ┆ 622.0      ┆ … ┆ 0.0039    ┆ 49.995    ┆ #FYP      ┆ 1.1677229 │\n",
       "│            ┆         ┆          ┆            ┆   ┆           ┆           ┆           ┆ e7        │\n",
       "│ 25%        ┆ null    ┆ null     ┆ 658.0      ┆ … ┆ 0.004     ┆ 50.8593   ┆ null      ┆ 1.6038509 │\n",
       "│            ┆         ┆          ┆            ┆   ┆           ┆           ┆           ┆ e7        │\n",
       "│ 50%        ┆ null    ┆ null     ┆ 921.0      ┆ … ┆ 0.007     ┆ 90.0953   ┆ null      ┆ 2.052802e │\n",
       "│            ┆         ┆          ┆            ┆   ┆           ┆           ┆           ┆ 7         │\n",
       "│ 75%        ┆ null    ┆ null     ┆ 989.0      ┆ … ┆ 0.0072    ┆ 91.808    ┆ null      ┆ 2.4506073 │\n",
       "│            ┆         ┆          ┆            ┆   ┆           ┆           ┆           ┆ e7        │\n",
       "│ max        ┆ Za      ┆ YouTube  ┆ 1068.0     ┆ … ┆ 0.0075    ┆ 93.0037   ┆ #FYP      ┆ 3.0145268 │\n",
       "│            ┆         ┆          ┆            ┆   ┆           ┆           ┆           ┆ e7        │\n",
       "└────────────┴─────────┴──────────┴────────────┴───┴───────────┴───────────┴───────────┴───────────┘"
      ]
     },
     "metadata": {},
     "output_type": "display_data"
    },
    {
     "name": "stdout",
     "output_type": "stream",
     "text": [
      "--- End of summary statistics ---\n",
      "\n"
     ]
    }
   ],
   "source": [
    "# Display summary statistics of each dataset\n",
    "print(\"Summary statistics of each dataset:\")\n",
    "display(monthly_trends.describe())\n",
    "display(top_creators.describe())\n",
    "display(top_hashtags.describe())\n",
    "display(shorts_vs_tiktok.describe())\n",
    "display(platform_summary.describe())\n",
    "print(\"--- End of summary statistics ---\\n\")\n"
   ]
  },
  {
   "cell_type": "code",
   "execution_count": 45,
   "id": "6dbe4b3e",
   "metadata": {},
   "outputs": [
    {
     "name": "stdout",
     "output_type": "stream",
     "text": [
      "Data Dictionary:\n",
      "1. Column \"platform\" is \"Platform (TikTok/YouTube)\"\n",
      "2. Column \"country\" is \"Country ISO-2 code\"\n",
      "3. Column \"region\" is \"Region macro label (if available)\"\n",
      "4. Column \"language\" is \"Primary language inferred from country (fallback to 'en')\"\n",
      "5. Column \"category\" is \"Video category (if available)\"\n",
      "6. Column \"hashtag\" is \"Primary hashtag aligned with genre\"\n",
      "7. Column \"title_keywords\" is \"Short realistic title-like keywords\"\n",
      "8. Column \"author_handle\" is \"Creator handle/channel (brand-like, synthetic)\"\n",
      "9. Column \"sound_type\" is \"Sound type (if present)\"\n",
      "\n",
      "\n",
      "10. Column \"music_track\" is \"Music track (if present)\"\n",
      "11. Column \"week_of_year\" is \"ISO week number (1–53)\"\n",
      "12. Column \"duration_sec\" is \"Shorts-style duration in seconds (TikTok ~5–75, YouTube ~5–90)\"\n",
      "13. Column \"views\" is \"Total views\"\n",
      "14. Column \"likes\" is \"Likes count\"\n",
      "15. Column \"comments\" is \"Comments count\"\n",
      "16. Column \"shares\" is \"Shares count\"\n",
      "17. Column \"saves\" is \"Saves count\"\n",
      "18. Column \"engagement_rate\" is \"(likes+comments+shares+saves) / views\"\n",
      "19. Column \"trend_label\" is \"No description available\"\n",
      "\n",
      "\n",
      "20. Column \"source_hint\" is \"No description available\"\n",
      "21. Column \"notes\" is \"No description available\"\n",
      "22. Column \"device_type\" is \"Android/iOS/Web\"\n",
      "23. Column \"upload_hour\" is \"Hour of day video published (0–23)\"\n",
      "24. Column \"genre\" is \"Canonical content genre\"\n",
      "25. Column \"trend_duration_days\" is \"Days the video remained trending (synthetic)\"\n",
      "26. Column \"trend_type\" is \"Short (≤7), Medium (8–21), Evergreen (≥22)\"\n",
      "27. Column \"engagement_velocity\" is \"views / trend_duration_days\"\n",
      "28. Column \"dislikes\" is \"Dislikes (synthetic, platform-aware)\"\n",
      "29. Column \"comment_ratio\" is \"comments / views\"\n",
      "\n",
      "\n",
      "30. Column \"share_rate\" is \"shares / views\"\n",
      "31. Column \"save_rate\" is \"saves / views\"\n",
      "32. Column \"like_dislike_ratio\" is \"likes / (dislikes+1)\"\n",
      "33. Column \"publish_dayofweek\" is \"Day of week of publish_date\"\n",
      "34. Column \"publish_period\" is \"Part of day bucket (Morning/Afternoon/Evening/Night)\"\n",
      "35. Column \"event_season\" is \"Seasonal/contextual event (Ramadan, SummerBreak, BackToSchool, HolidaySeason, None)\"\n",
      "36. Column \"tags\" is \"YouTube-like comma-separated tags aligned with genre\"\n",
      "37. Column \"sample_comments\" is \"One short synthetic multilingual comment\"\n",
      "38. Column \"creator_avg_views\" is \"Avg views per video for the creator (across dataset rows)\"\n",
      "39. Column \"creator_tier\" is \"Creator tier based on avg views: Micro / Mid / Macro / Star\"\n",
      "\n",
      "\n",
      "40. Column \"season\" is \"Climatological season (Winter/Spring/Summer/Fall)\"\n",
      "41. Column \"publish_date_approx\" is \"ISO date reconstructed/approximated within 2025 (clipped to 2025-09-12)\"\n",
      "42. Column \"year_month\" is \"Publish year-month for time-series aggregation\"\n",
      "43. Column \"title\" is \"Short realistic video title (synthetic)\"\n",
      "44. Column \"title_length\" is \"Character count of title\"\n",
      "45. Column \"has_emoji\" is \"Whether title contains emoji (1/0)\"\n",
      "46. Column \"avg_watch_time_sec\" is \"Estimated average watch time (seconds)\"\n",
      "47. Column \"completion_rate\" is \"avg_watch_time_sec / duration_sec\"\n",
      "48. Column \"device_brand\" is \"If mobile: device brand (iPhone, Samsung, Huawei, Xiaomi, Oppo, Vivo, Pixel, Other); Web → Desktop\"\n",
      "49. Column \"traffic_source\" is \"Coarse discovery source (TikTok: ForYou/Following/Search/External; YouTube: Home/Suggested/Search/External)\"\n",
      "\n",
      "\n",
      "50. Column \"is_weekend\" is \"Publish on Fri/Sat/Sun = 1\"\n",
      "51. Column \"row_id\" is \"Deterministic MD5 over [platform, country, author_handle, title, publish_date_approx, duration_sec] (primary key)\"\n",
      "52. Column \"engagement_total\" is \"likes + comments + shares + saves\"\n",
      "53. Column \"like_rate\" is \"likes / views\"\n",
      "54. Column \"dislike_rate\" is \"dislikes / views\"\n",
      "55. Column \"engagement_per_1k\" is \"Total engagements per 1,000 views\"\n",
      "56. Column \"engagement_like_rate\" is \"Likes divided by Views; NaN when Views <= 0\"\n",
      "57. Column \"engagement_comment_rate\" is \"Comments divided by Views; NaN when Views <= 0\"\n",
      "58. Column \"engagement_share_rate\" is \"Shares divided by Views; NaN when Views <= 0\"\n",
      "--- End of Data Dictionary ---\n"
     ]
    }
   ],
   "source": [
    "# Display Dictionary\n",
    "print(\"Data Dictionary:\")\n",
    "i = 1\n",
    "for row in Data_dictionary.to_dicts():\n",
    "    if i % 10 == 0:\n",
    "        print('\\n')\n",
    "    print(f'{i}. Column \"{row[\"column\"]}\" is \"{row[\"description\"]}\"')\n",
    "    i += 1\n",
    "print(\"--- End of Data Dictionary ---\")"
   ]
  }
 ],
 "metadata": {
  "kernelspec": {
   "display_name": "Macenv",
   "language": "python",
   "name": "python3"
  },
  "language_info": {
   "codemirror_mode": {
    "name": "ipython",
    "version": 3
   },
   "file_extension": ".py",
   "mimetype": "text/x-python",
   "name": "python",
   "nbconvert_exporter": "python",
   "pygments_lexer": "ipython3",
   "version": "3.13.0"
  }
 },
 "nbformat": 4,
 "nbformat_minor": 5
}
